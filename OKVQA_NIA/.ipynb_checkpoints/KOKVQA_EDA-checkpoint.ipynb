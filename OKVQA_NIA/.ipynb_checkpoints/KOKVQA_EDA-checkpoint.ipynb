{
 "cells": [
  {
   "cell_type": "code",
   "execution_count": null,
   "id": "40c3309d",
   "metadata": {},
   "outputs": [],
   "source": [
    "import pandas as pd\n",
    "import matplotlib.pyplot as plt\n",
    "import json"
   ]
  },
  {
   "cell_type": "code",
   "execution_count": null,
   "id": "e782a4e4",
   "metadata": {},
   "outputs": [],
   "source": [
    "k_data = json.load(open(\"./KOK-VQA.json\"))\n",
    "k_df = pd.DataFrame(k_data[\"annotations\"])"
   ]
  },
  {
   "cell_type": "code",
   "execution_count": null,
   "id": "c5c507ba",
   "metadata": {},
   "outputs": [],
   "source": [
    "k_df[\"questions\"]"
   ]
  },
  {
   "cell_type": "code",
   "execution_count": null,
   "id": "b2de557c",
   "metadata": {},
   "outputs": [],
   "source": [
    "k_df"
   ]
  },
  {
   "cell_type": "code",
   "execution_count": null,
   "id": "2fd6b17c",
   "metadata": {},
   "outputs": [],
   "source": [
    "k_kb = json.load(open(\"./KOK-VQA-KB.json\"))\n",
    "kb_df = pd.DataFrame(k_kb[\"knowledgebase\"])"
   ]
  },
  {
   "cell_type": "code",
   "execution_count": null,
   "id": "803e0570",
   "metadata": {},
   "outputs": [],
   "source": [
    "kb_df.T"
   ]
  }
 ],
 "metadata": {
  "kernelspec": {
   "display_name": "kbvqa",
   "language": "python",
   "name": "kbvqa"
  }
 },
 "nbformat": 4,
 "nbformat_minor": 5
}
