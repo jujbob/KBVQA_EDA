{
 "cells": [
  {
   "cell_type": "code",
   "execution_count": 1,
   "id": "502915cc",
   "metadata": {},
   "outputs": [],
   "source": [
    "import pandas as pd\n",
    "import matplotlib.pyplot as plt\n",
    "import json"
   ]
  },
  {
   "cell_type": "code",
   "execution_count": 3,
   "id": "c4a6f53c",
   "metadata": {},
   "outputs": [],
   "source": [
    "k_data = json.load(open(\"./KOK-VQA.json\"))\n",
    "k_df = pd.DataFrame(k_data[\"annotations\"])"
   ]
  },
  {
   "cell_type": "code",
   "execution_count": 4,
   "id": "65ce8777",
   "metadata": {},
   "outputs": [
    {
     "data": {
      "text/plain": [
       "0    [{'question_id': '1-1', 'question_ko': '사진속 어떤...\n",
       "1    [{'question_id': '2-1', 'question_ko': '사진속 어떤...\n",
       "2    [{'question_id': '1-1', 'question_ko': '이미지의 어...\n",
       "Name: questions, dtype: object"
      ]
     },
     "execution_count": 4,
     "metadata": {},
     "output_type": "execute_result"
    }
   ],
   "source": [
    "k_df[\"questions\"]"
   ]
  },
  {
   "cell_type": "code",
   "execution_count": 5,
   "id": "cdf8ebc0",
   "metadata": {},
   "outputs": [
    {
     "data": {
      "text/html": [
       "<div>\n",
       "<style scoped>\n",
       "    .dataframe tbody tr th:only-of-type {\n",
       "        vertical-align: middle;\n",
       "    }\n",
       "\n",
       "    .dataframe tbody tr th {\n",
       "        vertical-align: top;\n",
       "    }\n",
       "\n",
       "    .dataframe thead th {\n",
       "        text-align: right;\n",
       "    }\n",
       "</style>\n",
       "<table border=\"1\" class=\"dataframe\">\n",
       "  <thead>\n",
       "    <tr style=\"text-align: right;\">\n",
       "      <th></th>\n",
       "      <th>ACTION</th>\n",
       "      <th>CAPTION</th>\n",
       "      <th>HEIGHT</th>\n",
       "      <th>IMAGE_ACQUISITION_DATE</th>\n",
       "      <th>IMAGE_ACQUISITION_DATE</th>\n",
       "      <th>IMAGE_ID</th>\n",
       "      <th>IMAGE_NAME</th>\n",
       "      <th>IMAGE_URL</th>\n",
       "      <th>LICENSE</th>\n",
       "      <th>MAINOBJECT</th>\n",
       "      <th>MAINOBJECT_URL</th>\n",
       "      <th>SCENE</th>\n",
       "      <th>SUBOBJECT_1</th>\n",
       "      <th>SUBOBJECT_2</th>\n",
       "      <th>WIDTH</th>\n",
       "      <th>WIKI_FILE</th>\n",
       "      <th>bounding_box</th>\n",
       "      <th>questions</th>\n",
       "    </tr>\n",
       "  </thead>\n",
       "  <tbody>\n",
       "    <tr>\n",
       "      <th>0</th>\n",
       "      <td></td>\n",
       "      <td></td>\n",
       "      <td>533</td>\n",
       "      <td>20181004.0</td>\n",
       "      <td>NaN</td>\n",
       "      <td>1</td>\n",
       "      <td></td>\n",
       "      <td>https://upload.wikimedia.org/wikipedia/common...</td>\n",
       "      <td>FREE</td>\n",
       "      <td>piano</td>\n",
       "      <td>http://ko.dbpedia.org/resource/피아노</td>\n",
       "      <td></td>\n",
       "      <td>Hands</td>\n",
       "      <td>Leg</td>\n",
       "      <td>800</td>\n",
       "      <td>Hupfeld piano played (2018-10-04 @pxhere 15460...</td>\n",
       "      <td>[{'BOX_ID': '1-1', 'OBJECT': 'piano', 'X_COORD...</td>\n",
       "      <td>[{'question_id': '1-1', 'question_ko': '사진속 어떤...</td>\n",
       "    </tr>\n",
       "    <tr>\n",
       "      <th>1</th>\n",
       "      <td></td>\n",
       "      <td></td>\n",
       "      <td>533</td>\n",
       "      <td>NaN</td>\n",
       "      <td>20181004</td>\n",
       "      <td>2</td>\n",
       "      <td></td>\n",
       "      <td>https://upload.wikimedia.org/wikipedia/common...</td>\n",
       "      <td>FREE</td>\n",
       "      <td>pinpong</td>\n",
       "      <td>http://ko.dbpedia.org/resource/탁구</td>\n",
       "      <td></td>\n",
       "      <td>person</td>\n",
       "      <td>table</td>\n",
       "      <td>800</td>\n",
       "      <td>Hupfeld piano played (2018-10-04 @pxhere 1546...</td>\n",
       "      <td>[{'BOX_ID': '2-1', 'OBJECT': 'pingpong', 'X_CO...</td>\n",
       "      <td>[{'question_id': '2-1', 'question_ko': '사진속 어떤...</td>\n",
       "    </tr>\n",
       "    <tr>\n",
       "      <th>2</th>\n",
       "      <td></td>\n",
       "      <td></td>\n",
       "      <td>533</td>\n",
       "      <td>20181004.0</td>\n",
       "      <td>NaN</td>\n",
       "      <td>3</td>\n",
       "      <td></td>\n",
       "      <td>https://upload.wikimedia.org/wikipedia/common...</td>\n",
       "      <td>FREE</td>\n",
       "      <td>piano</td>\n",
       "      <td>http://ko.dbpedia.org/resource/피아노</td>\n",
       "      <td></td>\n",
       "      <td>Hands</td>\n",
       "      <td>Leg</td>\n",
       "      <td>800</td>\n",
       "      <td>Hupfeld piano played (2018-10-04 @pxhere 15460...</td>\n",
       "      <td>[{'BOX_ID': '1-1', 'OBJECT': 'piano', 'X_COORD...</td>\n",
       "      <td>[{'question_id': '1-1', 'question_ko': '이미지의 어...</td>\n",
       "    </tr>\n",
       "  </tbody>\n",
       "</table>\n",
       "</div>"
      ],
      "text/plain": [
       "  ACTION  CAPTION  HEIGHT   IMAGE_ACQUISITION_DATE IMAGE_ACQUISITION_DATE   \\\n",
       "0                      533              20181004.0                     NaN   \n",
       "1                      533                     NaN                20181004   \n",
       "2                      533              20181004.0                     NaN   \n",
       "\n",
       "  IMAGE_ID  IMAGE_NAME                                          IMAGE_URL   \\\n",
       "0         1               https://upload.wikimedia.org/wikipedia/common...   \n",
       "1         2               https://upload.wikimedia.org/wikipedia/common...   \n",
       "2         3               https://upload.wikimedia.org/wikipedia/common...   \n",
       "\n",
       "  LICENSE  MAINOBJECT                       MAINOBJECT_URL  SCENE   \\\n",
       "0     FREE       piano   http://ko.dbpedia.org/resource/피아노          \n",
       "1     FREE     pinpong    http://ko.dbpedia.org/resource/탁구          \n",
       "2     FREE       piano   http://ko.dbpedia.org/resource/피아노          \n",
       "\n",
       "  SUBOBJECT_1  SUBOBJECT_2  WIDTH   \\\n",
       "0        Hands          Leg    800   \n",
       "1       person        table    800   \n",
       "2        Hands          Leg    800   \n",
       "\n",
       "                                          WIKI_FILE   \\\n",
       "0  Hupfeld piano played (2018-10-04 @pxhere 15460...   \n",
       "1   Hupfeld piano played (2018-10-04 @pxhere 1546...   \n",
       "2  Hupfeld piano played (2018-10-04 @pxhere 15460...   \n",
       "\n",
       "                                        bounding_box  \\\n",
       "0  [{'BOX_ID': '1-1', 'OBJECT': 'piano', 'X_COORD...   \n",
       "1  [{'BOX_ID': '2-1', 'OBJECT': 'pingpong', 'X_CO...   \n",
       "2  [{'BOX_ID': '1-1', 'OBJECT': 'piano', 'X_COORD...   \n",
       "\n",
       "                                           questions  \n",
       "0  [{'question_id': '1-1', 'question_ko': '사진속 어떤...  \n",
       "1  [{'question_id': '2-1', 'question_ko': '사진속 어떤...  \n",
       "2  [{'question_id': '1-1', 'question_ko': '이미지의 어...  "
      ]
     },
     "execution_count": 5,
     "metadata": {},
     "output_type": "execute_result"
    }
   ],
   "source": [
    "k_df"
   ]
  },
  {
   "cell_type": "code",
   "execution_count": 8,
   "id": "ce002a5b",
   "metadata": {},
   "outputs": [
    {
     "ename": "JSONDecodeError",
     "evalue": "Expecting ',' delimiter: line 71 column 13 (char 2519)",
     "output_type": "error",
     "traceback": [
      "\u001b[0;31m---------------------------------------------------------------------------\u001b[0m",
      "\u001b[0;31mJSONDecodeError\u001b[0m                           Traceback (most recent call last)",
      "\u001b[0;32m/tmp/ipykernel_585596/124838421.py\u001b[0m in \u001b[0;36m<module>\u001b[0;34m\u001b[0m\n\u001b[0;32m----> 1\u001b[0;31m \u001b[0mk_kb\u001b[0m \u001b[0;34m=\u001b[0m \u001b[0mjson\u001b[0m\u001b[0;34m.\u001b[0m\u001b[0mload\u001b[0m\u001b[0;34m(\u001b[0m\u001b[0mopen\u001b[0m\u001b[0;34m(\u001b[0m\u001b[0;34m\"./KOK-VQA-KB.json\"\u001b[0m\u001b[0;34m)\u001b[0m\u001b[0;34m)\u001b[0m\u001b[0;34m\u001b[0m\u001b[0;34m\u001b[0m\u001b[0m\n\u001b[0m\u001b[1;32m      2\u001b[0m \u001b[0mkb_df\u001b[0m \u001b[0;34m=\u001b[0m \u001b[0mpd\u001b[0m\u001b[0;34m.\u001b[0m\u001b[0mDataFrame\u001b[0m\u001b[0;34m(\u001b[0m\u001b[0mk_kb\u001b[0m\u001b[0;34m[\u001b[0m\u001b[0;34m\"knowledgebase\"\u001b[0m\u001b[0;34m]\u001b[0m\u001b[0;34m)\u001b[0m\u001b[0;34m\u001b[0m\u001b[0;34m\u001b[0m\u001b[0m\n",
      "\u001b[0;32m~/anaconda3/envs/kbvqa/lib/python3.7/json/__init__.py\u001b[0m in \u001b[0;36mload\u001b[0;34m(fp, cls, object_hook, parse_float, parse_int, parse_constant, object_pairs_hook, **kw)\u001b[0m\n\u001b[1;32m    294\u001b[0m         \u001b[0mcls\u001b[0m\u001b[0;34m=\u001b[0m\u001b[0mcls\u001b[0m\u001b[0;34m,\u001b[0m \u001b[0mobject_hook\u001b[0m\u001b[0;34m=\u001b[0m\u001b[0mobject_hook\u001b[0m\u001b[0;34m,\u001b[0m\u001b[0;34m\u001b[0m\u001b[0;34m\u001b[0m\u001b[0m\n\u001b[1;32m    295\u001b[0m         \u001b[0mparse_float\u001b[0m\u001b[0;34m=\u001b[0m\u001b[0mparse_float\u001b[0m\u001b[0;34m,\u001b[0m \u001b[0mparse_int\u001b[0m\u001b[0;34m=\u001b[0m\u001b[0mparse_int\u001b[0m\u001b[0;34m,\u001b[0m\u001b[0;34m\u001b[0m\u001b[0;34m\u001b[0m\u001b[0m\n\u001b[0;32m--> 296\u001b[0;31m         parse_constant=parse_constant, object_pairs_hook=object_pairs_hook, **kw)\n\u001b[0m\u001b[1;32m    297\u001b[0m \u001b[0;34m\u001b[0m\u001b[0m\n\u001b[1;32m    298\u001b[0m \u001b[0;34m\u001b[0m\u001b[0m\n",
      "\u001b[0;32m~/anaconda3/envs/kbvqa/lib/python3.7/json/__init__.py\u001b[0m in \u001b[0;36mloads\u001b[0;34m(s, encoding, cls, object_hook, parse_float, parse_int, parse_constant, object_pairs_hook, **kw)\u001b[0m\n\u001b[1;32m    346\u001b[0m             \u001b[0mparse_int\u001b[0m \u001b[0;32mis\u001b[0m \u001b[0;32mNone\u001b[0m \u001b[0;32mand\u001b[0m \u001b[0mparse_float\u001b[0m \u001b[0;32mis\u001b[0m \u001b[0;32mNone\u001b[0m \u001b[0;32mand\u001b[0m\u001b[0;34m\u001b[0m\u001b[0;34m\u001b[0m\u001b[0m\n\u001b[1;32m    347\u001b[0m             parse_constant is None and object_pairs_hook is None and not kw):\n\u001b[0;32m--> 348\u001b[0;31m         \u001b[0;32mreturn\u001b[0m \u001b[0m_default_decoder\u001b[0m\u001b[0;34m.\u001b[0m\u001b[0mdecode\u001b[0m\u001b[0;34m(\u001b[0m\u001b[0ms\u001b[0m\u001b[0;34m)\u001b[0m\u001b[0;34m\u001b[0m\u001b[0;34m\u001b[0m\u001b[0m\n\u001b[0m\u001b[1;32m    349\u001b[0m     \u001b[0;32mif\u001b[0m \u001b[0mcls\u001b[0m \u001b[0;32mis\u001b[0m \u001b[0;32mNone\u001b[0m\u001b[0;34m:\u001b[0m\u001b[0;34m\u001b[0m\u001b[0;34m\u001b[0m\u001b[0m\n\u001b[1;32m    350\u001b[0m         \u001b[0mcls\u001b[0m \u001b[0;34m=\u001b[0m \u001b[0mJSONDecoder\u001b[0m\u001b[0;34m\u001b[0m\u001b[0;34m\u001b[0m\u001b[0m\n",
      "\u001b[0;32m~/anaconda3/envs/kbvqa/lib/python3.7/json/decoder.py\u001b[0m in \u001b[0;36mdecode\u001b[0;34m(self, s, _w)\u001b[0m\n\u001b[1;32m    335\u001b[0m \u001b[0;34m\u001b[0m\u001b[0m\n\u001b[1;32m    336\u001b[0m         \"\"\"\n\u001b[0;32m--> 337\u001b[0;31m         \u001b[0mobj\u001b[0m\u001b[0;34m,\u001b[0m \u001b[0mend\u001b[0m \u001b[0;34m=\u001b[0m \u001b[0mself\u001b[0m\u001b[0;34m.\u001b[0m\u001b[0mraw_decode\u001b[0m\u001b[0;34m(\u001b[0m\u001b[0ms\u001b[0m\u001b[0;34m,\u001b[0m \u001b[0midx\u001b[0m\u001b[0;34m=\u001b[0m\u001b[0m_w\u001b[0m\u001b[0;34m(\u001b[0m\u001b[0ms\u001b[0m\u001b[0;34m,\u001b[0m \u001b[0;36m0\u001b[0m\u001b[0;34m)\u001b[0m\u001b[0;34m.\u001b[0m\u001b[0mend\u001b[0m\u001b[0;34m(\u001b[0m\u001b[0;34m)\u001b[0m\u001b[0;34m)\u001b[0m\u001b[0;34m\u001b[0m\u001b[0;34m\u001b[0m\u001b[0m\n\u001b[0m\u001b[1;32m    338\u001b[0m         \u001b[0mend\u001b[0m \u001b[0;34m=\u001b[0m \u001b[0m_w\u001b[0m\u001b[0;34m(\u001b[0m\u001b[0ms\u001b[0m\u001b[0;34m,\u001b[0m \u001b[0mend\u001b[0m\u001b[0;34m)\u001b[0m\u001b[0;34m.\u001b[0m\u001b[0mend\u001b[0m\u001b[0;34m(\u001b[0m\u001b[0;34m)\u001b[0m\u001b[0;34m\u001b[0m\u001b[0;34m\u001b[0m\u001b[0m\n\u001b[1;32m    339\u001b[0m         \u001b[0;32mif\u001b[0m \u001b[0mend\u001b[0m \u001b[0;34m!=\u001b[0m \u001b[0mlen\u001b[0m\u001b[0;34m(\u001b[0m\u001b[0ms\u001b[0m\u001b[0;34m)\u001b[0m\u001b[0;34m:\u001b[0m\u001b[0;34m\u001b[0m\u001b[0;34m\u001b[0m\u001b[0m\n",
      "\u001b[0;32m~/anaconda3/envs/kbvqa/lib/python3.7/json/decoder.py\u001b[0m in \u001b[0;36mraw_decode\u001b[0;34m(self, s, idx)\u001b[0m\n\u001b[1;32m    351\u001b[0m         \"\"\"\n\u001b[1;32m    352\u001b[0m         \u001b[0;32mtry\u001b[0m\u001b[0;34m:\u001b[0m\u001b[0;34m\u001b[0m\u001b[0;34m\u001b[0m\u001b[0m\n\u001b[0;32m--> 353\u001b[0;31m             \u001b[0mobj\u001b[0m\u001b[0;34m,\u001b[0m \u001b[0mend\u001b[0m \u001b[0;34m=\u001b[0m \u001b[0mself\u001b[0m\u001b[0;34m.\u001b[0m\u001b[0mscan_once\u001b[0m\u001b[0;34m(\u001b[0m\u001b[0ms\u001b[0m\u001b[0;34m,\u001b[0m \u001b[0midx\u001b[0m\u001b[0;34m)\u001b[0m\u001b[0;34m\u001b[0m\u001b[0;34m\u001b[0m\u001b[0m\n\u001b[0m\u001b[1;32m    354\u001b[0m         \u001b[0;32mexcept\u001b[0m \u001b[0mStopIteration\u001b[0m \u001b[0;32mas\u001b[0m \u001b[0merr\u001b[0m\u001b[0;34m:\u001b[0m\u001b[0;34m\u001b[0m\u001b[0;34m\u001b[0m\u001b[0m\n\u001b[1;32m    355\u001b[0m             \u001b[0;32mraise\u001b[0m \u001b[0mJSONDecodeError\u001b[0m\u001b[0;34m(\u001b[0m\u001b[0;34m\"Expecting value\"\u001b[0m\u001b[0;34m,\u001b[0m \u001b[0ms\u001b[0m\u001b[0;34m,\u001b[0m \u001b[0merr\u001b[0m\u001b[0;34m.\u001b[0m\u001b[0mvalue\u001b[0m\u001b[0;34m)\u001b[0m \u001b[0;32mfrom\u001b[0m \u001b[0;32mNone\u001b[0m\u001b[0;34m\u001b[0m\u001b[0;34m\u001b[0m\u001b[0m\n",
      "\u001b[0;31mJSONDecodeError\u001b[0m: Expecting ',' delimiter: line 71 column 13 (char 2519)"
     ]
    }
   ],
   "source": [
    "k_kb = json.load(open(\"./KOK-VQA-KB.json\"))\n",
    "kb_df = pd.DataFrame(k_kb[\"knowledgebase\"])"
   ]
  },
  {
   "cell_type": "code",
   "execution_count": null,
   "id": "bce6ecb4",
   "metadata": {},
   "outputs": [],
   "source": [
    "kb_df.T"
   ]
  }
 ],
 "metadata": {
  "kernelspec": {
   "display_name": "kbvqa",
   "language": "python",
   "name": "kbvqa"
  },
  "language_info": {
   "codemirror_mode": {
    "name": "ipython",
    "version": 3
   },
   "file_extension": ".py",
   "mimetype": "text/x-python",
   "name": "python",
   "nbconvert_exporter": "python",
   "pygments_lexer": "ipython3",
   "version": "3.7.11"
  }
 },
 "nbformat": 4,
 "nbformat_minor": 5
}
