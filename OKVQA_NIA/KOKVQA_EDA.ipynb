{
 "cells": [
  {
   "cell_type": "code",
   "execution_count": null,
   "id": "3017ccfb",
   "metadata": {},
   "outputs": [],
   "source": [
    "import pandas as pd\n",
    "import matplotlib.pyplot as plt\n",
    "import json"
   ]
  },
  {
   "cell_type": "code",
   "execution_count": null,
   "id": "1a50b57b",
   "metadata": {},
   "outputs": [],
   "source": [
    "k_data = json.load(open(\"./KOK-VQA.json\"))\n",
    "k_df = pd.DataFrame(k_data[\"annotations\"])"
   ]
  },
  {
   "cell_type": "code",
   "execution_count": null,
   "id": "81b9e8da",
   "metadata": {},
   "outputs": [],
   "source": [
    "k_df[\"questions\"]"
   ]
  },
  {
   "cell_type": "code",
   "execution_count": null,
   "id": "0de75fc3",
   "metadata": {},
   "outputs": [],
   "source": [
    "k_df"
   ]
  },
  {
   "cell_type": "code",
   "execution_count": null,
   "id": "bbbf9e11",
   "metadata": {},
   "outputs": [],
   "source": [
    "k_kb = json.load(open(\"./KOK-VQA-KB.json\"))\n",
    "kb_df = pd.DataFrame(k_kb[\"knowledgebase\"])"
   ]
  },
  {
   "cell_type": "code",
   "execution_count": null,
   "id": "ddfd7203",
   "metadata": {},
   "outputs": [],
   "source": [
    "kb_df.T"
   ]
  }
 ],
 "metadata": {
  "kernelspec": {
   "display_name": "kbvqa",
   "language": "python",
   "name": "kbvqa"
  }
 },
 "nbformat": 4,
 "nbformat_minor": 5
}
